{
 "cells": [
  {
   "cell_type": "code",
   "execution_count": 1,
   "id": "dc9a9328",
   "metadata": {},
   "outputs": [],
   "source": [
    "from PIL import Image, ImageDraw\n",
    "\n",
    "def create_grid(image_path, grid_size):\n",
    "    # Open the input image\n",
    "    image = Image.open(image_path)\n",
    "    width, height = image.size\n",
    "\n",
    "    # Calculate the grid cell dimensions\n",
    "    grid_width = width // grid_size[0]\n",
    "    grid_height = height // grid_size[1]\n",
    "\n",
    "    # Create a draw object\n",
    "    draw = ImageDraw.Draw(image)\n",
    "\n",
    "    # Draw vertical grid lines and add numbers for each box\n",
    "    for x in range(0, width, grid_width):\n",
    "        for y in range(0, height, grid_height):\n",
    "            draw.rectangle([(x, y), (x + grid_width, y + grid_height)], outline=(25, 0, 0), width=1)\n",
    "            draw.text((x + 5, y + 5), f\"({x // grid_width}, {y // grid_height})\", fill=(250, 0, 0))\n",
    "\n",
    "    # Save timage with grids\n",
    "    image.save(\"grid_output_new.png\")\n",
    "\n",
    "# Specify the number of rows and columns for the grid\n",
    "row = 5 #desired number of rows\n",
    "col = 5 #the desired number of columns\n",
    "\n",
    "# input image path\n",
    "input_image_path = \"C:\\\\Users\\\\SHANTANU\\\\Pictures\\\\21070126082_shantanu.jpg\"  # Replace with your input image path\n",
    "\n",
    "# (rows, columns)\n",
    "grid_size = (row, col)\n",
    "\n",
    "create_grid(input_image_path, grid_size)\n"
   ]
  },
  {
   "cell_type": "code",
   "execution_count": null,
   "id": "f8aa62f0",
   "metadata": {},
   "outputs": [],
   "source": []
  }
 ],
 "metadata": {
  "kernelspec": {
   "display_name": "Python 3 (ipykernel)",
   "language": "python",
   "name": "python3"
  },
  "language_info": {
   "codemirror_mode": {
    "name": "ipython",
    "version": 3
   },
   "file_extension": ".py",
   "mimetype": "text/x-python",
   "name": "python",
   "nbconvert_exporter": "python",
   "pygments_lexer": "ipython3",
   "version": "3.9.7"
  }
 },
 "nbformat": 4,
 "nbformat_minor": 5
}

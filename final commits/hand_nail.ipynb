{
 "cells": [
  {
   "cell_type": "code",
   "execution_count": null,
   "id": "0fa0f431",
   "metadata": {},
   "outputs": [],
   "source": [
    "import cv2\n",
    "import mediapipe as mp\n",
    "import numpy as np\n",
    "import matplotlib.pyplot as plt\n",
    "\n",
    "def detect_and_highlight_index_finger_tip(image_path):\n",
    "    # Initialize Mediapipe Hand module\n",
    "    mp_hands = mp.solutions.hands\n",
    "    hands = mp_hands.Hands()\n",
    "\n",
    "    # Read the input image\n",
    "    image = cv2.imread(image_path)\n",
    "\n",
    "    # Convert the image to RGB format (Mediapipe requires RGB input)\n",
    "    image_rgb = cv2.cvtColor(image, cv2.COLOR_BGR2RGB)\n",
    "\n",
    "    # Process the image to detect hands\n",
    "    results = hands.process(image_rgb)\n",
    "\n",
    "    # Check if hands were detected\n",
    "    if results.multi_hand_landmarks:\n",
    "        for hand_landmarks in results.multi_hand_landmarks:\n",
    "            # Extract the coordinates of the index finger tip\n",
    "            index_finger_tip = hand_landmarks.landmark[8]\n",
    "\n",
    "            # Convert the normalized coordinates to pixel coordinates\n",
    "            height, width, _ = image.shape\n",
    "            x, y = int(index_finger_tip.x * width), int(index_finger_tip.y * height)\n",
    "\n",
    "            # Draw a circle at the index finger tip\n",
    "            cv2.circle(image, (x, y), 10, (0, 255, 0), -1)  # Green circle\n",
    "\n",
    "    return image\n",
    "\n",
    "# Example usage:\n",
    "image_path = 'hand.jpg'\n",
    "processed_image = detect_and_highlight_index_finger_tip(image_path)\n",
    "\n",
    "# Display the processed image using matplotlib\n",
    "plt.imshow(cv2.cvtColor(processed_image, cv2.COLOR_BGR2RGB))\n",
    "plt.axis('off')  # Turn off the axis labels and ticks\n",
    "plt.show()\n"
   ]
  }
 ],
 "metadata": {
  "kernelspec": {
   "display_name": "Python 3 (ipykernel)",
   "language": "python",
   "name": "python3"
  },
  "language_info": {
   "codemirror_mode": {
    "name": "ipython",
    "version": 3
   },
   "file_extension": ".py",
   "mimetype": "text/x-python",
   "name": "python",
   "nbconvert_exporter": "python",
   "pygments_lexer": "ipython3",
   "version": "3.10.13"
  }
 },
 "nbformat": 4,
 "nbformat_minor": 5
}

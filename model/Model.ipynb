{
 "cells": [
  {
   "cell_type": "code",
   "execution_count": 24,
   "id": "6f131c00",
   "metadata": {},
   "outputs": [],
   "source": [
    "import os\n",
    "import numpy as np\n",
    "import pandas as pd\n",
    "from shutil import copyfile\n"
   ]
  },
  {
   "cell_type": "code",
   "execution_count": 25,
   "id": "cd11567c",
   "metadata": {},
   "outputs": [
    {
     "name": "stdout",
     "output_type": "stream",
     "text": [
      "Found 1248 images belonging to 26 classes.\n",
      "Found 312 images belonging to 26 classes.\n"
     ]
    }
   ],
   "source": [
    "from keras.preprocessing.image import ImageDataGenerator\n",
    "datagen = ImageDataGenerator(rotation_range=20,\n",
    "                             shear_range=10,\n",
    "                             validation_split=0.2)\n",
    "\n",
    "train_generator = datagen.flow_from_directory('./images/',\n",
    "                                              target_size=(28,28),\n",
    "                                              subset='training')\n",
    "\n",
    "val_generator = datagen.flow_from_directory('./images/',\n",
    "                                            target_size=(28,28),\n",
    "                                            subset='validation')"
   ]
  },
  {
   "cell_type": "code",
   "execution_count": 16,
   "id": "378d72b1",
   "metadata": {},
   "outputs": [
    {
     "name": "stderr",
     "output_type": "stream",
     "text": [
      "C:\\Users\\ASUS\\AppData\\Local\\Temp\\ipykernel_4272\\1871965747.py:27: UserWarning: `Model.fit_generator` is deprecated and will be removed in a future version. Please use `Model.fit`, which supports generators.\n",
      "  history = model.fit_generator(train_generator,\n"
     ]
    },
    {
     "name": "stdout",
     "output_type": "stream",
     "text": [
      "Epoch 1/666\n",
      "39/39 [==============================] - 20s 463ms/step - loss: 3.2912 - accuracy: 0.0465 - val_loss: 3.2395 - val_accuracy: 0.0641 - lr: 0.0010\n",
      "Epoch 2/666\n",
      "39/39 [==============================] - 2s 50ms/step - loss: 3.1676 - accuracy: 0.0841 - val_loss: 2.9997 - val_accuracy: 0.1122 - lr: 0.0010\n",
      "Epoch 3/666\n",
      "39/39 [==============================] - 2s 49ms/step - loss: 2.6641 - accuracy: 0.2204 - val_loss: 2.3678 - val_accuracy: 0.3109 - lr: 0.0010\n",
      "Epoch 4/666\n",
      "39/39 [==============================] - 2s 50ms/step - loss: 2.0317 - accuracy: 0.3878 - val_loss: 1.7931 - val_accuracy: 0.4744 - lr: 0.0010\n",
      "Epoch 5/666\n",
      "39/39 [==============================] - 2s 49ms/step - loss: 1.5871 - accuracy: 0.5264 - val_loss: 1.3684 - val_accuracy: 0.6058 - lr: 0.0010\n",
      "Epoch 6/666\n",
      "39/39 [==============================] - 2s 50ms/step - loss: 1.1679 - accuracy: 0.6506 - val_loss: 0.9285 - val_accuracy: 0.7372 - lr: 0.0010\n",
      "Epoch 7/666\n",
      "39/39 [==============================] - 2s 48ms/step - loss: 1.0209 - accuracy: 0.6875 - val_loss: 1.2495 - val_accuracy: 0.6378 - lr: 0.0010\n",
      "Epoch 8/666\n",
      "39/39 [==============================] - 2s 49ms/step - loss: 0.8392 - accuracy: 0.7356 - val_loss: 0.8131 - val_accuracy: 0.7821 - lr: 0.0010\n",
      "Epoch 9/666\n",
      "39/39 [==============================] - 2s 48ms/step - loss: 0.7192 - accuracy: 0.7877 - val_loss: 0.7502 - val_accuracy: 0.7756 - lr: 0.0010\n",
      "Epoch 10/666\n",
      "39/39 [==============================] - 2s 48ms/step - loss: 0.6197 - accuracy: 0.8109 - val_loss: 0.7830 - val_accuracy: 0.7821 - lr: 0.0010\n",
      "Epoch 11/666\n",
      "39/39 [==============================] - 2s 49ms/step - loss: 0.6022 - accuracy: 0.8293 - val_loss: 0.6353 - val_accuracy: 0.8333 - lr: 0.0010\n",
      "Epoch 12/666\n",
      "39/39 [==============================] - 2s 47ms/step - loss: 0.5470 - accuracy: 0.8325 - val_loss: 0.6887 - val_accuracy: 0.8013 - lr: 0.0010\n",
      "Epoch 13/666\n",
      "39/39 [==============================] - 2s 49ms/step - loss: 0.4774 - accuracy: 0.8590 - val_loss: 0.5978 - val_accuracy: 0.8333 - lr: 0.0010\n",
      "Epoch 14/666\n",
      "39/39 [==============================] - 2s 49ms/step - loss: 0.4859 - accuracy: 0.8526 - val_loss: 0.5685 - val_accuracy: 0.8429 - lr: 0.0010\n",
      "Epoch 15/666\n",
      "39/39 [==============================] - 2s 49ms/step - loss: 0.4383 - accuracy: 0.8630 - val_loss: 0.5578 - val_accuracy: 0.8558 - lr: 0.0010\n",
      "Epoch 16/666\n",
      "39/39 [==============================] - 2s 48ms/step - loss: 0.3985 - accuracy: 0.8870 - val_loss: 0.4565 - val_accuracy: 0.8750 - lr: 0.0010\n",
      "Epoch 17/666\n",
      "39/39 [==============================] - 2s 48ms/step - loss: 0.4217 - accuracy: 0.8870 - val_loss: 0.5279 - val_accuracy: 0.8558 - lr: 0.0010\n",
      "Epoch 18/666\n",
      "39/39 [==============================] - 2s 49ms/step - loss: 0.4006 - accuracy: 0.8838 - val_loss: 0.4437 - val_accuracy: 0.8622 - lr: 0.0010\n",
      "Epoch 19/666\n",
      "39/39 [==============================] - 2s 47ms/step - loss: 0.3624 - accuracy: 0.8870 - val_loss: 0.4581 - val_accuracy: 0.8686 - lr: 0.0010\n",
      "Epoch 20/666\n",
      "39/39 [==============================] - 2s 52ms/step - loss: 0.2978 - accuracy: 0.9119 - val_loss: 0.3911 - val_accuracy: 0.9071 - lr: 0.0010\n",
      "Epoch 21/666\n",
      "39/39 [==============================] - 2s 50ms/step - loss: 0.3586 - accuracy: 0.8990 - val_loss: 0.5214 - val_accuracy: 0.8846 - lr: 0.0010\n",
      "Epoch 22/666\n",
      "39/39 [==============================] - 2s 59ms/step - loss: 0.3451 - accuracy: 0.8902 - val_loss: 0.4512 - val_accuracy: 0.8782 - lr: 0.0010\n",
      "Epoch 23/666\n",
      "39/39 [==============================] - 2s 50ms/step - loss: 0.3028 - accuracy: 0.9143 - val_loss: 0.3806 - val_accuracy: 0.8718 - lr: 0.0010\n",
      "Epoch 24/666\n",
      "39/39 [==============================] - 2s 49ms/step - loss: 0.2279 - accuracy: 0.9343 - val_loss: 0.3751 - val_accuracy: 0.9038 - lr: 0.0010\n",
      "Epoch 25/666\n",
      "39/39 [==============================] - 2s 48ms/step - loss: 0.2635 - accuracy: 0.9263 - val_loss: 0.4931 - val_accuracy: 0.8686 - lr: 0.0010\n",
      "Epoch 26/666\n",
      "39/39 [==============================] - 2s 47ms/step - loss: 0.3421 - accuracy: 0.8966 - val_loss: 0.4550 - val_accuracy: 0.8846 - lr: 0.0010\n",
      "Epoch 27/666\n",
      "39/39 [==============================] - 2s 47ms/step - loss: 0.2578 - accuracy: 0.9175 - val_loss: 0.3873 - val_accuracy: 0.8942 - lr: 0.0010\n",
      "Epoch 28/666\n",
      "39/39 [==============================] - 2s 49ms/step - loss: 0.2289 - accuracy: 0.9343 - val_loss: 0.3698 - val_accuracy: 0.9006 - lr: 0.0010\n",
      "Epoch 29/666\n",
      "39/39 [==============================] - 2s 48ms/step - loss: 0.2045 - accuracy: 0.9423 - val_loss: 0.3672 - val_accuracy: 0.9327 - lr: 0.0010\n",
      "Epoch 30/666\n",
      "39/39 [==============================] - 2s 48ms/step - loss: 0.2612 - accuracy: 0.9279 - val_loss: 0.3225 - val_accuracy: 0.9231 - lr: 0.0010\n",
      "Epoch 31/666\n",
      "39/39 [==============================] - 2s 47ms/step - loss: 0.1961 - accuracy: 0.9455 - val_loss: 0.4589 - val_accuracy: 0.8814 - lr: 0.0010\n",
      "Epoch 32/666\n",
      "39/39 [==============================] - 2s 47ms/step - loss: 0.1908 - accuracy: 0.9511 - val_loss: 0.4094 - val_accuracy: 0.9071 - lr: 0.0010\n",
      "Epoch 33/666\n",
      "39/39 [==============================] - 2s 46ms/step - loss: 0.1857 - accuracy: 0.9503 - val_loss: 0.3381 - val_accuracy: 0.9103 - lr: 0.0010\n",
      "Epoch 34/666\n",
      "39/39 [==============================] - 2s 48ms/step - loss: 0.1925 - accuracy: 0.9407 - val_loss: 0.2728 - val_accuracy: 0.9327 - lr: 0.0010\n",
      "Epoch 35/666\n",
      "39/39 [==============================] - 2s 47ms/step - loss: 0.1691 - accuracy: 0.9575 - val_loss: 0.2981 - val_accuracy: 0.9135 - lr: 0.0010\n",
      "Epoch 36/666\n",
      "39/39 [==============================] - 2s 48ms/step - loss: 0.1887 - accuracy: 0.9471 - val_loss: 0.3339 - val_accuracy: 0.9359 - lr: 0.0010\n",
      "Epoch 37/666\n",
      "39/39 [==============================] - 2s 47ms/step - loss: 0.1718 - accuracy: 0.9503 - val_loss: 0.2897 - val_accuracy: 0.9295 - lr: 0.0010\n",
      "Epoch 38/666\n",
      "39/39 [==============================] - 2s 47ms/step - loss: 0.1392 - accuracy: 0.9655 - val_loss: 0.3661 - val_accuracy: 0.9263 - lr: 0.0010\n",
      "Epoch 39/666\n",
      "39/39 [==============================] - 2s 47ms/step - loss: 0.3045 - accuracy: 0.8982 - val_loss: 0.6136 - val_accuracy: 0.8365 - lr: 0.0010\n",
      "Epoch 40/666\n",
      "39/39 [==============================] - 2s 47ms/step - loss: 0.3174 - accuracy: 0.9030 - val_loss: 0.3227 - val_accuracy: 0.9295 - lr: 0.0010\n",
      "Epoch 41/666\n",
      "39/39 [==============================] - 2s 47ms/step - loss: 0.2263 - accuracy: 0.9423 - val_loss: 0.3116 - val_accuracy: 0.9327 - lr: 0.0010\n",
      "Epoch 42/666\n",
      "39/39 [==============================] - 2s 47ms/step - loss: 0.2745 - accuracy: 0.9207 - val_loss: 0.3305 - val_accuracy: 0.9167 - lr: 0.0010\n",
      "Epoch 43/666\n",
      "39/39 [==============================] - 2s 54ms/step - loss: 0.1343 - accuracy: 0.9671 - val_loss: 0.2277 - val_accuracy: 0.9423 - lr: 1.0000e-04\n",
      "Epoch 44/666\n",
      "39/39 [==============================] - 2s 49ms/step - loss: 0.0991 - accuracy: 0.9808 - val_loss: 0.2364 - val_accuracy: 0.9455 - lr: 1.0000e-04\n",
      "Epoch 45/666\n",
      "39/39 [==============================] - 2s 50ms/step - loss: 0.0933 - accuracy: 0.9832 - val_loss: 0.2380 - val_accuracy: 0.9391 - lr: 1.0000e-04\n",
      "Epoch 46/666\n",
      "39/39 [==============================] - 2s 48ms/step - loss: 0.1004 - accuracy: 0.9768 - val_loss: 0.2417 - val_accuracy: 0.9391 - lr: 1.0000e-04\n",
      "Epoch 47/666\n",
      "39/39 [==============================] - 2s 49ms/step - loss: 0.0897 - accuracy: 0.9824 - val_loss: 0.2235 - val_accuracy: 0.9487 - lr: 1.0000e-04\n",
      "Epoch 48/666\n",
      "39/39 [==============================] - 2s 47ms/step - loss: 0.0873 - accuracy: 0.9832 - val_loss: 0.2353 - val_accuracy: 0.9455 - lr: 1.0000e-04\n",
      "Epoch 49/666\n",
      "39/39 [==============================] - 2s 47ms/step - loss: 0.0772 - accuracy: 0.9912 - val_loss: 0.2290 - val_accuracy: 0.9455 - lr: 1.0000e-04\n",
      "Epoch 50/666\n",
      "39/39 [==============================] - 2s 48ms/step - loss: 0.0756 - accuracy: 0.9872 - val_loss: 0.2188 - val_accuracy: 0.9487 - lr: 1.0000e-04\n",
      "Epoch 51/666\n",
      "39/39 [==============================] - 2s 49ms/step - loss: 0.0804 - accuracy: 0.9872 - val_loss: 0.2142 - val_accuracy: 0.9551 - lr: 1.0000e-04\n",
      "Epoch 52/666\n",
      "39/39 [==============================] - 2s 47ms/step - loss: 0.0740 - accuracy: 0.9896 - val_loss: 0.2151 - val_accuracy: 0.9551 - lr: 1.0000e-04\n",
      "Epoch 53/666\n"
     ]
    },
    {
     "name": "stdout",
     "output_type": "stream",
     "text": [
      "39/39 [==============================] - 2s 47ms/step - loss: 0.0721 - accuracy: 0.9880 - val_loss: 0.1852 - val_accuracy: 0.9455 - lr: 1.0000e-04\n",
      "Epoch 54/666\n",
      "39/39 [==============================] - 2s 48ms/step - loss: 0.0684 - accuracy: 0.9880 - val_loss: 0.1786 - val_accuracy: 0.9615 - lr: 1.0000e-04\n",
      "Epoch 55/666\n",
      "39/39 [==============================] - 2s 47ms/step - loss: 0.0761 - accuracy: 0.9840 - val_loss: 0.1949 - val_accuracy: 0.9583 - lr: 1.0000e-04\n",
      "Epoch 56/666\n",
      "39/39 [==============================] - 2s 46ms/step - loss: 0.0668 - accuracy: 0.9904 - val_loss: 0.2432 - val_accuracy: 0.9487 - lr: 1.0000e-04\n",
      "Epoch 57/666\n",
      "39/39 [==============================] - 2s 48ms/step - loss: 0.0732 - accuracy: 0.9872 - val_loss: 0.1777 - val_accuracy: 0.9519 - lr: 1.0000e-04\n",
      "Epoch 58/666\n",
      "39/39 [==============================] - 2s 47ms/step - loss: 0.0676 - accuracy: 0.9848 - val_loss: 0.1793 - val_accuracy: 0.9712 - lr: 1.0000e-04\n",
      "Epoch 59/666\n",
      "39/39 [==============================] - 2s 47ms/step - loss: 0.0650 - accuracy: 0.9904 - val_loss: 0.2049 - val_accuracy: 0.9487 - lr: 1.0000e-04\n",
      "Epoch 60/666\n",
      "39/39 [==============================] - 2s 46ms/step - loss: 0.0726 - accuracy: 0.9864 - val_loss: 0.1967 - val_accuracy: 0.9679 - lr: 1.0000e-04\n",
      "Epoch 61/666\n",
      "39/39 [==============================] - 2s 46ms/step - loss: 0.0692 - accuracy: 0.9864 - val_loss: 0.2054 - val_accuracy: 0.9583 - lr: 1.0000e-04\n",
      "Epoch 62/666\n",
      "39/39 [==============================] - 2s 46ms/step - loss: 0.0621 - accuracy: 0.9904 - val_loss: 0.1898 - val_accuracy: 0.9551 - lr: 1.0000e-04\n",
      "Epoch 63/666\n",
      "39/39 [==============================] - 2s 48ms/step - loss: 0.0631 - accuracy: 0.9904 - val_loss: 0.2315 - val_accuracy: 0.9519 - lr: 1.0000e-04\n",
      "Epoch 64/666\n",
      "39/39 [==============================] - 2s 46ms/step - loss: 0.0614 - accuracy: 0.9896 - val_loss: 0.1930 - val_accuracy: 0.9583 - lr: 1.0000e-04\n",
      "Epoch 65/666\n",
      "39/39 [==============================] - 2s 47ms/step - loss: 0.0650 - accuracy: 0.9912 - val_loss: 0.2032 - val_accuracy: 0.9615 - lr: 1.0000e-04\n",
      "Epoch 66/666\n",
      "39/39 [==============================] - 2s 46ms/step - loss: 0.0586 - accuracy: 0.9912 - val_loss: 0.1942 - val_accuracy: 0.9615 - lr: 1.0000e-05\n",
      "Epoch 67/666\n",
      "39/39 [==============================] - 2s 47ms/step - loss: 0.0540 - accuracy: 0.9936 - val_loss: 0.1609 - val_accuracy: 0.9679 - lr: 1.0000e-05\n",
      "Epoch 68/666\n",
      "39/39 [==============================] - 2s 47ms/step - loss: 0.0661 - accuracy: 0.9872 - val_loss: 0.1922 - val_accuracy: 0.9679 - lr: 1.0000e-05\n",
      "Epoch 69/666\n",
      "39/39 [==============================] - 2s 46ms/step - loss: 0.0558 - accuracy: 0.9912 - val_loss: 0.2075 - val_accuracy: 0.9583 - lr: 1.0000e-05\n",
      "Epoch 70/666\n",
      "39/39 [==============================] - 2s 46ms/step - loss: 0.0566 - accuracy: 0.9928 - val_loss: 0.2308 - val_accuracy: 0.9487 - lr: 1.0000e-05\n",
      "Epoch 71/666\n",
      "39/39 [==============================] - 2s 47ms/step - loss: 0.0699 - accuracy: 0.9872 - val_loss: 0.1993 - val_accuracy: 0.9487 - lr: 1.0000e-05\n",
      "Epoch 72/666\n",
      "39/39 [==============================] - 2s 47ms/step - loss: 0.0612 - accuracy: 0.9904 - val_loss: 0.1810 - val_accuracy: 0.9519 - lr: 1.0000e-05\n",
      "Epoch 73/666\n",
      "39/39 [==============================] - 2s 47ms/step - loss: 0.0569 - accuracy: 0.9928 - val_loss: 0.2216 - val_accuracy: 0.9583 - lr: 1.0000e-05\n",
      "Epoch 74/666\n",
      "39/39 [==============================] - 2s 46ms/step - loss: 0.0682 - accuracy: 0.9888 - val_loss: 0.2137 - val_accuracy: 0.9487 - lr: 1.0000e-05\n",
      "Epoch 75/666\n",
      "39/39 [==============================] - 2s 48ms/step - loss: 0.0606 - accuracy: 0.9888 - val_loss: 0.1600 - val_accuracy: 0.9615 - lr: 1.0000e-05\n",
      "Epoch 76/666\n",
      "39/39 [==============================] - 2s 46ms/step - loss: 0.0590 - accuracy: 0.9896 - val_loss: 0.1630 - val_accuracy: 0.9583 - lr: 1.0000e-05\n",
      "Epoch 77/666\n",
      "39/39 [==============================] - 2s 46ms/step - loss: 0.0562 - accuracy: 0.9928 - val_loss: 0.2039 - val_accuracy: 0.9647 - lr: 1.0000e-05\n",
      "Epoch 78/666\n",
      "39/39 [==============================] - 2s 46ms/step - loss: 0.0645 - accuracy: 0.9880 - val_loss: 0.2187 - val_accuracy: 0.9519 - lr: 1.0000e-05\n",
      "Epoch 79/666\n",
      "39/39 [==============================] - 2s 47ms/step - loss: 0.0676 - accuracy: 0.9888 - val_loss: 0.1920 - val_accuracy: 0.9583 - lr: 1.0000e-05\n",
      "Epoch 80/666\n",
      "39/39 [==============================] - 2s 46ms/step - loss: 0.0508 - accuracy: 0.9944 - val_loss: 0.2024 - val_accuracy: 0.9519 - lr: 1.0000e-05\n",
      "Epoch 81/666\n",
      "39/39 [==============================] - 2s 47ms/step - loss: 0.0589 - accuracy: 0.9888 - val_loss: 0.1671 - val_accuracy: 0.9551 - lr: 1.0000e-05\n",
      "Epoch 82/666\n",
      "39/39 [==============================] - 2s 46ms/step - loss: 0.0606 - accuracy: 0.9912 - val_loss: 0.2379 - val_accuracy: 0.9615 - lr: 1.0000e-05\n",
      "Epoch 83/666\n",
      "39/39 [==============================] - 2s 46ms/step - loss: 0.0585 - accuracy: 0.9896 - val_loss: 0.2240 - val_accuracy: 0.9391 - lr: 1.0000e-05\n",
      "Epoch 84/666\n",
      "39/39 [==============================] - 2s 46ms/step - loss: 0.0582 - accuracy: 0.9920 - val_loss: 0.1718 - val_accuracy: 0.9679 - lr: 1.0000e-06\n",
      "Epoch 85/666\n",
      "39/39 [==============================] - 2s 46ms/step - loss: 0.0593 - accuracy: 0.9936 - val_loss: 0.1938 - val_accuracy: 0.9583 - lr: 1.0000e-06\n",
      "Epoch 86/666\n",
      "39/39 [==============================] - 2s 46ms/step - loss: 0.0614 - accuracy: 0.9912 - val_loss: 0.2497 - val_accuracy: 0.9487 - lr: 1.0000e-06\n",
      "Epoch 87/666\n",
      "39/39 [==============================] - 2s 47ms/step - loss: 0.0545 - accuracy: 0.9928 - val_loss: 0.1862 - val_accuracy: 0.9551 - lr: 1.0000e-06\n",
      "Epoch 88/666\n",
      "39/39 [==============================] - 2s 46ms/step - loss: 0.0581 - accuracy: 0.9912 - val_loss: 0.2005 - val_accuracy: 0.9615 - lr: 1.0000e-06\n",
      "Epoch 89/666\n",
      "39/39 [==============================] - 2s 46ms/step - loss: 0.0543 - accuracy: 0.9904 - val_loss: 0.1981 - val_accuracy: 0.9583 - lr: 1.0000e-06\n",
      "Epoch 90/666\n",
      "39/39 [==============================] - 2s 47ms/step - loss: 0.0640 - accuracy: 0.9864 - val_loss: 0.1489 - val_accuracy: 0.9583 - lr: 1.0000e-06\n",
      "Epoch 91/666\n",
      "39/39 [==============================] - 2s 47ms/step - loss: 0.0615 - accuracy: 0.9912 - val_loss: 0.2093 - val_accuracy: 0.9712 - lr: 1.0000e-06\n",
      "Epoch 92/666\n",
      "39/39 [==============================] - 2s 47ms/step - loss: 0.0624 - accuracy: 0.9896 - val_loss: 0.1761 - val_accuracy: 0.9551 - lr: 1.0000e-06\n",
      "Epoch 93/666\n",
      "39/39 [==============================] - 2s 47ms/step - loss: 0.0663 - accuracy: 0.9880 - val_loss: 0.2198 - val_accuracy: 0.9487 - lr: 1.0000e-06\n",
      "Epoch 94/666\n",
      "39/39 [==============================] - 2s 46ms/step - loss: 0.0585 - accuracy: 0.9888 - val_loss: 0.1787 - val_accuracy: 0.9583 - lr: 1.0000e-06\n",
      "Epoch 95/666\n",
      "39/39 [==============================] - 2s 46ms/step - loss: 0.0575 - accuracy: 0.9936 - val_loss: 0.2164 - val_accuracy: 0.9615 - lr: 1.0000e-06\n",
      "Epoch 96/666\n",
      "39/39 [==============================] - 2s 46ms/step - loss: 0.0588 - accuracy: 0.9880 - val_loss: 0.2683 - val_accuracy: 0.9455 - lr: 1.0000e-06\n",
      "Epoch 97/666\n",
      "39/39 [==============================] - 2s 46ms/step - loss: 0.0539 - accuracy: 0.9928 - val_loss: 0.1641 - val_accuracy: 0.9583 - lr: 1.0000e-06\n",
      "Epoch 98/666\n",
      "39/39 [==============================] - 2s 46ms/step - loss: 0.0561 - accuracy: 0.9936 - val_loss: 0.1993 - val_accuracy: 0.9647 - lr: 1.0000e-06\n",
      "Epoch 99/666\n",
      "39/39 [==============================] - 2s 47ms/step - loss: 0.0507 - accuracy: 0.9944 - val_loss: 0.1358 - val_accuracy: 0.9679 - lr: 1.0000e-07\n",
      "Epoch 100/666\n",
      "39/39 [==============================] - 2s 46ms/step - loss: 0.0593 - accuracy: 0.9896 - val_loss: 0.2279 - val_accuracy: 0.9455 - lr: 1.0000e-07\n",
      "Epoch 101/666\n",
      "39/39 [==============================] - 2s 46ms/step - loss: 0.0632 - accuracy: 0.9896 - val_loss: 0.2199 - val_accuracy: 0.9487 - lr: 1.0000e-07\n",
      "Epoch 102/666\n",
      "39/39 [==============================] - 2s 46ms/step - loss: 0.0553 - accuracy: 0.9936 - val_loss: 0.2093 - val_accuracy: 0.9487 - lr: 1.0000e-07\n",
      "Epoch 103/666\n",
      "39/39 [==============================] - 2s 48ms/step - loss: 0.0567 - accuracy: 0.9904 - val_loss: 0.2031 - val_accuracy: 0.9615 - lr: 1.0000e-07\n",
      "Epoch 104/666\n"
     ]
    },
    {
     "name": "stdout",
     "output_type": "stream",
     "text": [
      "39/39 [==============================] - 2s 46ms/step - loss: 0.0588 - accuracy: 0.9936 - val_loss: 0.2088 - val_accuracy: 0.9583 - lr: 1.0000e-07\n",
      "Epoch 105/666\n",
      "39/39 [==============================] - 2s 47ms/step - loss: 0.0576 - accuracy: 0.9912 - val_loss: 0.1750 - val_accuracy: 0.9679 - lr: 1.0000e-07\n",
      "Epoch 106/666\n",
      "39/39 [==============================] - 2s 46ms/step - loss: 0.0668 - accuracy: 0.9912 - val_loss: 0.1975 - val_accuracy: 0.9615 - lr: 1.0000e-07\n",
      "Epoch 107/666\n",
      "39/39 [==============================] - 2s 50ms/step - loss: 0.0528 - accuracy: 0.9928 - val_loss: 0.2563 - val_accuracy: 0.9423 - lr: 1.0000e-07\n",
      "Epoch 108/666\n",
      "39/39 [==============================] - 2s 47ms/step - loss: 0.0521 - accuracy: 0.9944 - val_loss: 0.2240 - val_accuracy: 0.9519 - lr: 1.0000e-08\n",
      "Epoch 109/666\n",
      "39/39 [==============================] - 2s 47ms/step - loss: 0.0676 - accuracy: 0.9904 - val_loss: 0.2307 - val_accuracy: 0.9551 - lr: 1.0000e-08\n",
      "Epoch 110/666\n",
      "39/39 [==============================] - 2s 47ms/step - loss: 0.0543 - accuracy: 0.9928 - val_loss: 0.1865 - val_accuracy: 0.9455 - lr: 1.0000e-08\n",
      "Epoch 111/666\n",
      "39/39 [==============================] - 2s 47ms/step - loss: 0.0591 - accuracy: 0.9904 - val_loss: 0.1927 - val_accuracy: 0.9615 - lr: 1.0000e-08\n",
      "Epoch 112/666\n",
      "39/39 [==============================] - 2s 47ms/step - loss: 0.0614 - accuracy: 0.9888 - val_loss: 0.1834 - val_accuracy: 0.9615 - lr: 1.0000e-08\n",
      "Epoch 113/666\n",
      "39/39 [==============================] - 2s 48ms/step - loss: 0.0609 - accuracy: 0.9864 - val_loss: 0.2515 - val_accuracy: 0.9551 - lr: 1.0000e-08\n",
      "Epoch 114/666\n",
      "39/39 [==============================] - 2s 48ms/step - loss: 0.0539 - accuracy: 0.9928 - val_loss: 0.2008 - val_accuracy: 0.9551 - lr: 1.0000e-08\n",
      "Epoch 114: early stopping\n"
     ]
    }
   ],
   "source": [
    "from keras import backend as K\n",
    "from keras import layers as L\n",
    "from keras.models import Model,load_model\n",
    "from keras.regularizers import l2\n",
    "from keras.callbacks import ModelCheckpoint,ReduceLROnPlateau,EarlyStopping\n",
    "\n",
    "K.clear_session()\n",
    "model_ckpt = ModelCheckpoint('BrailleNet.h5',save_best_only=True)\n",
    "reduce_lr = ReduceLROnPlateau(patience=8,verbose=0)\n",
    "early_stop = EarlyStopping(patience=15,verbose=1)\n",
    "\n",
    "entry = L.Input(shape=(28,28,3))\n",
    "x = L.SeparableConv2D(64,(3,3),activation='relu')(entry)\n",
    "x = L.MaxPooling2D((2,2))(x)\n",
    "x = L.SeparableConv2D(128,(3,3),activation='relu')(x)\n",
    "x = L.MaxPooling2D((2,2))(x)\n",
    "x = L.SeparableConv2D(256,(2,2),activation='relu')(x)\n",
    "x = L.GlobalMaxPooling2D()(x)\n",
    "x = L.Dense(256)(x)\n",
    "x = L.LeakyReLU()(x)\n",
    "x = L.Dense(64,kernel_regularizer=l2(2e-4))(x)\n",
    "x = L.LeakyReLU()(x)\n",
    "x = L.Dense(26,activation='softmax')(x)\n",
    "model = Model(entry,x)\n",
    "model.compile(loss='categorical_crossentropy',optimizer='adam',metrics=['accuracy'])\n",
    "\n",
    "history = model.fit_generator(train_generator,\n",
    "                              validation_data=val_generator,\n",
    "                              epochs=666,\n",
    "                              callbacks=[model_ckpt,reduce_lr,early_stop],\n",
    "                              verbose=1)"
   ]
  },
  {
   "cell_type": "code",
   "execution_count": 17,
   "id": "297ed26c",
   "metadata": {},
   "outputs": [
    {
     "name": "stderr",
     "output_type": "stream",
     "text": [
      "C:\\Users\\ASUS\\AppData\\Local\\Temp\\ipykernel_4272\\3710093233.py:2: UserWarning: `Model.evaluate_generator` is deprecated and will be removed in a future version. Please use `Model.evaluate`, which supports generators.\n",
      "  acc = model.evaluate_generator(val_generator)[1]\n"
     ]
    },
    {
     "name": "stdout",
     "output_type": "stream",
     "text": [
      "model accuracy: 0.9423\n"
     ]
    }
   ],
   "source": [
    "model = load_model('BrailleNet.h5')\n",
    "acc = model.evaluate_generator(val_generator)[1]\n",
    "print('model accuracy: {}'.format(round(acc,4)))"
   ]
  },
  {
   "cell_type": "code",
   "execution_count": 18,
   "id": "31e1811e",
   "metadata": {},
   "outputs": [
    {
     "data": {
      "image/png": "[encoded data removed]",
      "text/plain": [
       "<Figure size 640x480 with 1 Axes>"
      ]
     },
     "metadata": {},
     "output_type": "display_data"
    },
    {
     "data": {
      "image/png": "[encoded data removed]",
      "text/plain": [
       "<Figure size 640x480 with 1 Axes>"
      ]
     },
     "metadata": {},
     "output_type": "display_data"
    },
    {
     "data": {
      "text/plain": [
       "<Figure size 640x480 with 0 Axes>"
      ]
     },
     "metadata": {},
     "output_type": "display_data"
    }
   ],
   "source": [
    "import matplotlib.pyplot as plt\n",
    "plt.plot(history.history['loss'], label='train loss')\n",
    "plt.plot(history.history['val_loss'], label='val loss')\n",
    "plt.legend()\n",
    "plt.show()\n",
    "plt.savefig('LossVal_loss')\n",
    "\n",
    "# plot the accuracy\n",
    "plt.plot(history.history['accuracy'], label='train acc')\n",
    "plt.plot(history.history['val_accuracy'], label='val acc')\n",
    "plt.legend()\n",
    "plt.show()\n",
    "plt.savefig('AccVal_acc')"
   ]
  },
  {
   "cell_type": "code",
   "execution_count": 19,
   "id": "7c370cda",
   "metadata": {},
   "outputs": [],
   "source": [
    "from keras.models import load_model\n",
    "\n",
    "# Load the trained model\n",
    "loaded_model = load_model('BrailleNet.h5')  # Replace with your saved model file path\n"
   ]
  },
  {
   "cell_type": "code",
   "execution_count": 23,
   "id": "b2589380",
   "metadata": {},
   "outputs": [
    {
     "name": "stdout",
     "output_type": "stream",
     "text": [
      "1/1 [==============================] - 0s 86ms/step\n",
      "Predicted Braille character: c\n"
     ]
    }
   ],
   "source": [
    "from keras.preprocessing import image\n",
    "import numpy as np\n",
    "from keras.models import load_model\n",
    "from PIL import Image\n",
    "\n",
    "# Load the trained model\n",
    "loaded_model = load_model('BrailleNet.h5')  # Replace with the actual path to your trained model\n",
    "\n",
    "# Load and preprocess the unseen image\n",
    "img_path = 'x.jpg'  # Replace with the path to your unseen image\n",
    "\n",
    "# Load the image using Pillow (PIL)\n",
    "img = Image.open(img_path)\n",
    "img = img.resize((28, 28))  # Assuming the model expects 28x28 images\n",
    "\n",
    "# Convert the image to a NumPy array\n",
    "img_array = np.array(img)\n",
    "img_array = img_array / 255.0  # Normalize the pixel values (assuming the model was trained with normalized data)\n",
    "img_array = np.expand_dims(img_array, axis=0)  # Add batch dimension\n",
    "\n",
    "# Make predictions\n",
    "predictions = loaded_model.predict(img_array)\n",
    "\n",
    "# Assuming that the predictions are one-hot encoded, you can get the predicted class index\n",
    "predicted_class_index = np.argmax(predictions)\n",
    "\n",
    "# You may want to map the class index back to the corresponding Braille character\n",
    "# For example, if class 0 corresponds to 'a', class 1 to 'b', and so on:\n",
    "braille_characters = ['a', 'b', 'c', 'd', 'e', 'f', 'g', 'h', 'i', 'j', 'k', 'l', 'm', 'n', 'o', 'p', 'q', 'r', 's', 't', 'u', 'v', 'w', 'x', 'y', 'z']\n",
    "predicted_braille_character = braille_characters[predicted_class_index]\n",
    "\n",
    "print(f\"Predicted Braille character: {predicted_braille_character}\")\n"
   ]
  },
  {
   "cell_type": "code",
   "execution_count": null,
   "id": "2b08aff9",
   "metadata": {},
   "outputs": [],
   "source": []
  }
 ],
 "metadata": {
  "kernelspec": {
   "display_name": "Python 3 (ipykernel)",
   "language": "python",
   "name": "python3"
  },
  "language_info": {
   "codemirror_mode": {
    "name": "ipython",
    "version": 3
   },
   "file_extension": ".py",
   "mimetype": "text/x-python",
   "name": "python",
   "nbconvert_exporter": "python",
   "pygments_lexer": "ipython3",
   "version": "3.9.13"
  }
 },
 "nbformat": 4,
 "nbformat_minor": 5
}

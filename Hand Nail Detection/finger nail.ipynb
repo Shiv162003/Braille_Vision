{
 "cells": [
  {
   "cell_type": "code",
   "execution_count": 9,
   "id": "a1c9854d",
   "metadata": {},
   "outputs": [],
   "source": [
    "import cv2\n",
    "import numpy as np\n",
    "\n",
    "# Load an image from file\n",
    "image = cv2.imread(\"Finger.jpeg\")  # Replace 'finger.jpg' with your image file\n",
    "\n",
    "# Convert the image to grayscale\n",
    "gray = cv2.cvtColor(image, cv2.COLOR_BGR2GRAY)\n",
    "\n",
    "# Apply a Gaussian blur to reduce noise and enhance edges\n",
    "blurred = cv2.GaussianBlur(gray, (5, 5), 0)\n",
    "\n",
    "# Use Canny edge detection to find edges in the image\n",
    "edges = cv2.Canny(blurred, 50, 150)\n",
    "\n",
    "# Find contours in the edge map\n",
    "contours, _ = cv2.findContours(edges.copy(), cv2.RETR_EXTERNAL, cv2.CHAIN_APPROX_SIMPLE)\n",
    "\n",
    "# Filter contours to find the ones that might represent nails based on area\n",
    "nail_contours = []\n",
    "for contour in contours:\n",
    "    area = cv2.contourArea(contour)\n",
    "    if area > 500 and area < 5000:  # Adjust these thresholds based on your images\n",
    "        nail_contours.append(contour)\n",
    "\n",
    "# Draw the detected nail contours on the original image\n",
    "cv2.drawContours(image, nail_contours, -1, (0, 255, 0), 2)\n",
    "\n",
    "# Display the result\n",
    "cv2.imshow('Nail Detection', image)\n",
    "cv2.waitKey(0)\n",
    "cv2.destroyAllWindows()\n"
   ]
  },
  {
   "cell_type": "code",
   "execution_count": null,
   "id": "7d0ca5f1",
   "metadata": {},
   "outputs": [],
   "source": []
  },
  {
   "cell_type": "code",
   "execution_count": null,
   "id": "367893ce",
   "metadata": {},
   "outputs": [],
   "source": []
  }
 ],
 "metadata": {
  "kernelspec": {
   "display_name": "Python 3 (ipykernel)",
   "language": "python",
   "name": "python3"
  },
  "language_info": {
   "codemirror_mode": {
    "name": "ipython",
    "version": 3
   },
   "file_extension": ".py",
   "mimetype": "text/x-python",
   "name": "python",
   "nbconvert_exporter": "python",
   "pygments_lexer": "ipython3",
   "version": "3.9.7"
  }
 },
 "nbformat": 4,
 "nbformat_minor": 5
}
